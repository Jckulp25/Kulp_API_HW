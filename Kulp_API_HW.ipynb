{
 "cells": [
  {
   "cell_type": "code",
   "execution_count": 1,
   "id": "86baf6f1-ab43-49d1-8bca-14d739d3cb78",
   "metadata": {},
   "outputs": [],
   "source": [
    "import json \n",
    "import pandas as pd \n",
    "import requests "
   ]
  },
  {
   "cell_type": "code",
   "execution_count": 19,
   "id": "9c8ec32e-4d32-46c5-9298-8ffdbcabf9ef",
   "metadata": {},
   "outputs": [
    {
     "name": "stdin",
     "output_type": "stream",
     "text": [
      " GME\n"
     ]
    }
   ],
   "source": [
    "#get stock from the user\n",
    "stock=input()\n"
   ]
  },
  {
   "cell_type": "code",
   "execution_count": 29,
   "id": "c2318131-3fcc-4b4a-8ea8-83824e90363e",
   "metadata": {},
   "outputs": [
    {
     "name": "stdout",
     "output_type": "stream",
     "text": [
      "{\"quoteResponse\":{\"result\":[{\"language\":\"en-US\",\"region\":\"US\",\"quoteType\":\"EQUITY\",\"typeDisp\":\"Equity\",\"quoteSourceName\":\"Nasdaq Real Time Price\",\"triggerable\":true,\"customPriceAlertConfidence\":\"HIGH\",\"regularMarketPrice\":22.93,\"regularMarketChangePercent\":2.00178,\"currency\":\"USD\",\"marketState\":\"POST\",\"hasPrePostMarketData\":true,\"firstTradeDateMilliseconds\":1013610600000,\"priceHint\":2,\"postMarketChangePercent\":0.0,\"postMarketTime\":1727729160,\"postMarketPrice\":22.93,\"postMarketChange\":0.0,\"regularMarketChange\":0.450001,\"regularMarketTime\":1727726402,\"regularMarketDayHigh\":23.64,\"regularMarketDayRange\":\"22.17 - 23.64\",\"regularMarketDayLow\":22.17,\"regularMarketVolume\":9756800,\"regularMarketPreviousClose\":22.48,\"bid\":22.98,\"ask\":22.95,\"bidSize\":10,\"askSize\":18,\"fullExchangeName\":\"NYSE\",\"financialCurrency\":\"USD\",\"regularMarketOpen\":22.3,\"averageDailyVolume3Month\":11235847,\"averageDailyVolume10Day\":13922750,\"exchange\":\"NYQ\",\"shortName\":\"GameStop Corporation\",\"longName\":\"GameStop Corp.\",\"messageBoardId\":\"finmb_1342560\",\"exchangeTimezoneName\":\"America/New_York\",\"exchangeTimezoneShortName\":\"EDT\",\"gmtOffSetMilliseconds\":-14400000,\"market\":\"us_market\",\"esgPopulated\":false,\"fiftyTwoWeekLowChange\":12.9800005,\"fiftyTwoWeekLowChangePercent\":1.3045226,\"fiftyTwoWeekRange\":\"9.95 - 64.83\",\"fiftyTwoWeekHighChange\":-41.9,\"fiftyTwoWeekHighChangePercent\":-0.64630574,\"fiftyTwoWeekLow\":9.95,\"fiftyTwoWeekHigh\":64.83,\"fiftyTwoWeekChangePercent\":46.06887,\"dividendDate\":1529971200,\"earningsTimestamp\":1725998701,\"earningsTimestampStart\":1733309940,\"earningsTimestampEnd\":1733745600,\"isEarningsDateEstimate\":true,\"trailingAnnualDividendRate\":0.0,\"trailingPE\":163.78572,\"trailingAnnualDividendYield\":0.0,\"epsTrailingTwelveMonths\":0.14,\"epsForward\":-0.01,\"epsCurrentYear\":-0.03,\"priceEpsCurrentYear\":-764.3334,\"sharesOutstanding\":446510016,\"bookValue\":10.278,\"fiftyDayAverage\":22.192,\"fiftyDayAverageChange\":0.73800087,\"fiftyDayAverageChangePercent\":0.033255268,\"twoHundredDayAverage\":18.9882,\"twoHundredDayAverageChange\":3.941801,\"twoHundredDayAverageChangePercent\":0.20759214,\"marketCap\":10238475264,\"forwardPE\":-2293.0,\"priceToBook\":2.2309787,\"sourceInterval\":15,\"exchangeDataDelayedBy\":0,\"averageAnalystRating\":\"4.5 - Underperform\",\"tradeable\":false,\"cryptoTradeable\":false,\"displayName\":\"GameStop\",\"symbol\":\"GME\"}],\"error\":null}}\n"
     ]
    }
   ],
   "source": [
    "apikey=\"removed for public repo",
    "\n",
    "url1 = \"https://yfapi.net/v6/finance/quote\"\n",
    "\n",
    "querystring1 = {\"symbols\":stock}\n",
    "\n",
    "headers1 = {\n",
    "    'x-api-key': apikey\n",
    "    }\n",
    "\n",
    "response = requests.request(\"GET\", url1, headers=headers1, params=querystring1)\n",
    "\n",
    "print(response1.text)"
   ]
  },
  {
   "cell_type": "code",
   "execution_count": 41,
   "id": "6f3ea02e-53cb-450f-86c7-e80963f9997d",
   "metadata": {},
   "outputs": [
    {
     "name": "stdout",
     "output_type": "stream",
     "text": [
      "Symbol: GME\n",
      "Name: GameStop Corp.\n",
      "Market Price: 22.93\n",
      "Fifty Two Week High: 64.83\n",
      "Fifty Two Week Low: 9.95\n"
     ]
    }
   ],
   "source": [
    "# Printing company info\n",
    "# if statement designed to only run if the input of the stock statement is a valid response\n",
    "# The API sight didn't seem to have \"Target Market Price\" or anything resembling it \n",
    "#I also was unsure what was meant by \n",
    "stock_json = response.json()\n",
    "\n",
    "if stock_json['quoteResponse']['result']:\n",
    "\n",
    "    symbol = \"Symbol: \" + str(stock_json['quoteResponse']['result'][0][\"symbol\"])\n",
    "    name = \"Name: \" + stock_json['quoteResponse']['result'][0][\"longName\"]\n",
    "    market_price = \"Market Price: \" + str(stock_json['quoteResponse']['result'][0][\"regularMarketPrice\"])\n",
    "    fifty_two_week_high = \"Fifty Two Week High: \" + str(stock_json['quoteResponse']['result'][0][\"fiftyTwoWeekHigh\"])\n",
    "    fifty_two_week_low = \"Fifty Two Week Low: \" + str(stock_json['quoteResponse']['result'][0][\"fiftyTwoWeekLow\"])\n",
    "\n",
    "    print(symbol)\n",
    "    print(name)\n",
    "    print(market_price)\n",
    "    print(fifty_two_week_high)\n",
    "    print(fifty_two_week_low)"
   ]
  },
  {
   "cell_type": "code",
   "execution_count": 39,
   "id": "d87b3c73-dfcf-4969-9c45-e70a94384f8e",
   "metadata": {},
   "outputs": [
    {
     "name": "stdout",
     "output_type": "stream",
     "text": [
      "        Symbol                  Name         Market Price  \\\n",
      "0  Symbol: GME  Name: GameStop Corp.  Market Price: 22.93   \n",
      "\n",
      "                 52-Week High               52-Week Low  \n",
      "0  Fifty Two Week High: 64.83  Fifty Two Week Low: 9.95  \n"
     ]
    }
   ],
   "source": [
    "# Storing the results in dataframe and convert to csv:\n",
    "data = {\n",
    "    \"Symbol\": [symbol],\n",
    "    \"Name\": [name],\n",
    "    \"Market Price\": [market_price],\n",
    "    \"52-Week High\": [fifty_two_week_high],\n",
    "    \"52-Week Low\": [fifty_two_week_low]\n",
    "}\n",
    "\n",
    "df = pd.DataFrame(data)\n",
    "df.to_csv(\"stock_data.csv\", index=False)\n",
    "print(df)"
   ]
  }
 ],
 "metadata": {
  "kernelspec": {
   "display_name": "Python 3 (ipykernel)",
   "language": "python",
   "name": "python3"
  },
  "language_info": {
   "codemirror_mode": {
    "name": "ipython",
    "version": 3
   },
   "file_extension": ".py",
   "mimetype": "text/x-python",
   "name": "python",
   "nbconvert_exporter": "python",
   "pygments_lexer": "ipython3",
   "version": "3.12.4"
  }
 },
 "nbformat": 4,
 "nbformat_minor": 5
}
